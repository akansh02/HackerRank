{
 "cells": [
  {
   "cell_type": "markdown",
   "id": "10a26594",
   "metadata": {},
   "source": [
    "## Sum of given \"n\" numbers"
   ]
  },
  {
   "cell_type": "markdown",
   "id": "49e017e7",
   "metadata": {},
   "source": [
    "#### Problem:\n",
    "Given n: the number of integers that need to be input, we need to input the integers and print the sum of these \"n\" integers.\n",
    "\n",
    "Input Format\n",
    "\n",
    "The first line will consist of the number(n) of integers to read from the next line. The next line will conssit of n intregers seperated by space.\n",
    "\n",
    "Constraints\n",
    "\n",
    "0<=n<=100\n",
    "\n",
    "Output Format\n",
    "\n",
    "Just one number which is the sum of the given \"n\" integers.\n",
    "\n",
    "Sample Input 0\n",
    "\n",
    "4\n",
    "\n",
    "1 1 1 1\n",
    "\n",
    "Sample Output 0\n",
    "\n",
    "4\n",
    "\n",
    "Sample Input 1\n",
    "\n",
    "1\n",
    "\n",
    "-1000000\n",
    "\n",
    "Sample Output 1\n",
    "\n",
    "-1000000"
   ]
  },
  {
   "cell_type": "code",
   "execution_count": 3,
   "id": "69bc5e77",
   "metadata": {},
   "outputs": [
    {
     "name": "stdout",
     "output_type": "stream",
     "text": [
      "4\n",
      "1 1\n",
      "2\n"
     ]
    }
   ],
   "source": [
    "num = int(input())\n",
    "\n",
    "if num == 0:\n",
    "    print(0)\n",
    "else:\n",
    "    num1 = input()\n",
    "    \n",
    "    s=num1.split()\n",
    "    \n",
    "    sum=0\n",
    "    for ele in s:\n",
    "        sum+=int(ele)\n",
    "    print(sum)\n",
    "    "
   ]
  },
  {
   "cell_type": "code",
   "execution_count": null,
   "id": "091855dc",
   "metadata": {},
   "outputs": [],
   "source": []
  }
 ],
 "metadata": {
  "kernelspec": {
   "display_name": "Python 3 (ipykernel)",
   "language": "python",
   "name": "python3"
  },
  "language_info": {
   "codemirror_mode": {
    "name": "ipython",
    "version": 3
   },
   "file_extension": ".py",
   "mimetype": "text/x-python",
   "name": "python",
   "nbconvert_exporter": "python",
   "pygments_lexer": "ipython3",
   "version": "3.8.8"
  }
 },
 "nbformat": 4,
 "nbformat_minor": 5
}
