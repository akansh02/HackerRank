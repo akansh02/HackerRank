{
 "cells": [
  {
   "cell_type": "markdown",
   "id": "b5077d4c",
   "metadata": {},
   "source": [
    "## Longest Arithmetic subsequence"
   ]
  },
  {
   "cell_type": "markdown",
   "id": "71975128",
   "metadata": {},
   "source": [
    "### Task\n",
    "Given an array A of integers, return the length of the longest arithmetic subsequence in A.\n",
    "\n",
    "Recall that a subsequence of A is a list A[i_1], A[i_2], ..., A[i_k] with 0 <= i_1 < i_2 < ... < i_k <= A.length - 1, and that a sequence B is arithmetic if B[i+1] - B[i] are all the same value (for 0 <= i < B.length - 1).\n",
    "\n",
    "Input Format\n",
    "\n",
    "comma sepearted values in the input array\n",
    "\n",
    "Constraints\n",
    "\n",
    "2 <= length of A <= 1000\n",
    "\n",
    "0 <= A[i] <= 1000\n",
    "\n",
    "Output Format\n",
    "\n",
    "integer value of the length of the Longest Arithmetic sub-sequence\n",
    "\n",
    "Sample Input 0\n",
    "\n",
    "2,4,6,8\n",
    "\n",
    "Sample Output 0\n",
    "\n",
    "4\n",
    "\n",
    "Sample Input 1\n",
    "\n",
    "9,4,7,2,10\n",
    "\n",
    "Sample Output 1\n",
    "\n",
    "3\n",
    "\n",
    "Explanation 1\n",
    "\n",
    "The longest arithmetic subsequence is [4,7,10].\n",
    "\n",
    "Sample Input 2\n",
    "\n",
    "20,1,15,3,10,5,8\n",
    "\n",
    "Sample Output 2\n",
    "\n",
    "4\n",
    "\n",
    "Explanation 2\n",
    "\n",
    "The longest arithmetic subsequence is [20,15,10,5]."
   ]
  },
  {
   "cell_type": "code",
   "execution_count": 1,
   "id": "85fc30b5",
   "metadata": {},
   "outputs": [
    {
     "name": "stdout",
     "output_type": "stream",
     "text": [
      "9,4,7,2,10\n",
      "3\n"
     ]
    }
   ],
   "source": [
    "def LongestArithSub(arr):\n",
    "    dict = {}\n",
    "    for i in range(len(arr)):\n",
    "        for j in range(i + 1, len(arr)):\n",
    "            dict[j, arr[j] - arr[i]] = dict.get((i, arr[j] - arr[i]), 1) + 1\n",
    "    return max(dict.values())\n",
    "\n",
    "\n",
    "str = input().split(\",\")\n",
    "arr = [int(i) for i in str]\n",
    "\n",
    "print(LongestArithSub(arr))"
   ]
  },
  {
   "cell_type": "code",
   "execution_count": null,
   "id": "a4be5b79",
   "metadata": {},
   "outputs": [],
   "source": []
  }
 ],
 "metadata": {
  "kernelspec": {
   "display_name": "Python 3 (ipykernel)",
   "language": "python",
   "name": "python3"
  },
  "language_info": {
   "codemirror_mode": {
    "name": "ipython",
    "version": 3
   },
   "file_extension": ".py",
   "mimetype": "text/x-python",
   "name": "python",
   "nbconvert_exporter": "python",
   "pygments_lexer": "ipython3",
   "version": "3.8.8"
  }
 },
 "nbformat": 4,
 "nbformat_minor": 5
}
