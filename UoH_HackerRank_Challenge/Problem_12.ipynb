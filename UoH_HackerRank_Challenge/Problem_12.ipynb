{
 "cells": [
  {
   "cell_type": "markdown",
   "id": "60b82b82",
   "metadata": {},
   "source": [
    "## Solve for X\n"
   ]
  },
  {
   "cell_type": "markdown",
   "id": "6da6ff4d",
   "metadata": {},
   "source": [
    "### TASK:\n",
    "    \n",
    "Find a real valued \"x\" such that x^5 - x^4 + 2*x^3 - x^2 + x = 3. Print the result to 5 decimal places of accuracy.\n",
    "\n",
    "To verfiy your answer, you can use this solver at Wolfram Alpha:\n",
    "\n",
    "Input Format\n",
    "\n",
    "No input\n",
    "\n",
    "Constraints\n",
    "\n",
    "None\n",
    "\n",
    "Output Format\n",
    "\n",
    "real number with 5 decimal digits"
   ]
  },
  {
   "cell_type": "code",
   "execution_count": 1,
   "id": "58049fc9",
   "metadata": {},
   "outputs": [
    {
     "name": "stdout",
     "output_type": "stream",
     "text": [
      "1.13555\n"
     ]
    }
   ],
   "source": [
    "import math\n",
    "\n",
    "def f(x):\n",
    "    return x**5 - x**4 + 2*x**3 - x**2 + x - 3\n",
    "\n",
    "x_lower = -1\n",
    "x_upper = 2\n",
    "x = (x_lower+x_upper)/2\n",
    "while(abs(f(x)) > 0.00001):\n",
    "    x = (x_lower + x_upper)/2\n",
    "    if f(x)>0:\n",
    "        x_upper = x\n",
    "    else:\n",
    "        x_lower = x\n",
    "        \n",
    "print(round(x,5))"
   ]
  },
  {
   "cell_type": "code",
   "execution_count": null,
   "id": "6007c4de",
   "metadata": {},
   "outputs": [],
   "source": []
  }
 ],
 "metadata": {
  "kernelspec": {
   "display_name": "Python 3 (ipykernel)",
   "language": "python",
   "name": "python3"
  },
  "language_info": {
   "codemirror_mode": {
    "name": "ipython",
    "version": 3
   },
   "file_extension": ".py",
   "mimetype": "text/x-python",
   "name": "python",
   "nbconvert_exporter": "python",
   "pygments_lexer": "ipython3",
   "version": "3.8.8"
  }
 },
 "nbformat": 4,
 "nbformat_minor": 5
}
