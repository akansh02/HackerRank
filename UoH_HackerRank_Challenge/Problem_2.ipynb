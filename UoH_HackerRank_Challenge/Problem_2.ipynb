{
 "cells": [
  {
   "cell_type": "markdown",
   "id": "6e3fff46",
   "metadata": {},
   "source": [
    "## Find the second largest element in a list of integers"
   ]
  },
  {
   "cell_type": "markdown",
   "id": "3dfb23f5",
   "metadata": {},
   "source": [
    "### Problem:\n",
    "\n",
    "Given a list of integers as input, return the second largest number. Print \"Error\" in case of any errors like there exists no second largest element.\n",
    "\n",
    "Input Format\n",
    "\n",
    "Comma seperated list of integers\n",
    "\n",
    "Constraints\n",
    "\n",
    "Number of elements in the list is >=2 and <=100,000\n",
    "\n",
    "Output Format\n",
    "\n",
    "Print the second largest number or \"Error\"\n",
    "\n",
    "Sample Input 0\n",
    "\n",
    "1,2,3,4,6,6\n",
    "\n",
    "Sample Output 0\n",
    "\n",
    "4\n",
    "\n",
    "Sample Input 1\n",
    "\n",
    "-1, -1, 1, 2, 3,-10\n",
    "\n",
    "Sample Output 1\n",
    "\n",
    "2"
   ]
  },
  {
   "cell_type": "code",
   "execution_count": 1,
   "id": "82144b5f",
   "metadata": {},
   "outputs": [
    {
     "name": "stdout",
     "output_type": "stream",
     "text": [
      "1,2,3,2,4,2,5\n",
      "4\n"
     ]
    }
   ],
   "source": [
    "num = input()\n",
    "\n",
    "s = num.split(\",\")\n",
    "\n",
    "lst = []\n",
    "for ele in s:\n",
    "     lst.append(int(ele))\n",
    "\n",
    "n = len(lst)\n",
    "if n<2:\n",
    "    print(\"Error\")\n",
    "    exit()\n",
    "\n",
    "NEG_INF = float('-inf')\n",
    "firstmax = NEG_INF\n",
    "secondmax = NEG_INF\n",
    "\n",
    "for i in range(0,n):\n",
    "    if lst[i]>firstmax:\n",
    "        secondmax = firstmax\n",
    "        firstmax = lst[i]\n",
    "    elif lst[i]>secondmax and firstmax != lst[i]:\n",
    "        secondmax=lst[i]\n",
    "        \n",
    "    \n",
    "if firstmax==secondmax or secondmax == NEG_INF:\n",
    "    print(\"Error\")\n",
    "else:\n",
    "    print(secondmax)"
   ]
  },
  {
   "cell_type": "code",
   "execution_count": null,
   "id": "a980d8fb",
   "metadata": {},
   "outputs": [],
   "source": []
  }
 ],
 "metadata": {
  "kernelspec": {
   "display_name": "Python 3 (ipykernel)",
   "language": "python",
   "name": "python3"
  },
  "language_info": {
   "codemirror_mode": {
    "name": "ipython",
    "version": 3
   },
   "file_extension": ".py",
   "mimetype": "text/x-python",
   "name": "python",
   "nbconvert_exporter": "python",
   "pygments_lexer": "ipython3",
   "version": "3.8.8"
  }
 },
 "nbformat": 4,
 "nbformat_minor": 5
}
