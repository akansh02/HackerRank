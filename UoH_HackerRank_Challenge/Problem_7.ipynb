{
 "cells": [
  {
   "cell_type": "markdown",
   "id": "c4fb61f0",
   "metadata": {},
   "source": [
    "## Shape and Reshape"
   ]
  },
  {
   "cell_type": "markdown",
   "id": "17f18f11",
   "metadata": {},
   "source": [
    "### Task\n",
    "\n",
    "#### shape\n",
    "\n",
    "The shape tool gives a tuple of array dimensions and can be used to change the dimensions of an array.\n",
    "\n",
    "(a). Using shape to get array dimensions\n",
    "\n",
    "import numpy\n",
    "\n",
    "my__1D_array = numpy.array([1, 2, 3, 4, 5])\n",
    "\n",
    "print my_1D_array.shape     #(5,) -> 1 row and 5 columns\n",
    "\n",
    "my__2D_array = numpy.array([[1, 2],[3, 4],[6,5]])\n",
    "\n",
    "print my_2D_array.shape     #(3, 2) -> 3 rows and 2 columns \n",
    "\n",
    "\n",
    "(b). Using shape to change array dimensions\n",
    "\n",
    "import numpy\n",
    "\n",
    "change_array = numpy.array([1,2,3,4,5,6])\n",
    "change_array.shape = (3, 2)\n",
    "print change_array      \n",
    "\n",
    "#Output\n",
    "\n",
    "[[1 2]\n",
    "\n",
    "[3 4]\n",
    "\n",
    "[5 6]]\n",
    "\n",
    "#### reshape\n",
    "\n",
    "The reshape tool gives a new shape to an array without changing its data. It creates a new array and does not modify the original array itself.\n",
    "\n",
    "import numpy\n",
    "\n",
    "my_array = numpy.array([1,2,3,4,5,6])\n",
    "print numpy.reshape(my_array,(3,2))\n",
    "\n",
    "#Output\n",
    "\n",
    "[[1 2]\n",
    "\n",
    "[3 4]\n",
    "\n",
    "[5 6]]\n",
    "\n",
    "### Task\n",
    "\n",
    "You are given a space separated list of nine integers. Your task is to convert this list into a X NumPy array.\n",
    "\n",
    "Input Format\n",
    "\n",
    "A single line of input containing  space separated integers.\n",
    "\n",
    "Output Format\n",
    "\n",
    "Print the X NumPy array.\n",
    "\n",
    "Sample Input\n",
    "\n",
    "1 2 3 4 5 6 7 8 9\n",
    "\n",
    "Sample Output\n",
    "\n",
    "[[1 2 3]\n",
    "\n",
    " [4 5 6]\n",
    "\n",
    "[7 8 9]]\n",
    " \n"
   ]
  },
  {
   "cell_type": "code",
   "execution_count": 4,
   "id": "62ab365d",
   "metadata": {},
   "outputs": [
    {
     "name": "stdout",
     "output_type": "stream",
     "text": [
      "1 2 3 4 5 6 7 8 9\n",
      "[[1 2 3]\n",
      " [4 5 6]\n",
      " [7 8 9]]\n"
     ]
    }
   ],
   "source": [
    "import numpy as np\n",
    "\n",
    "s = input().split(\" \")\n",
    "arr = [int(i) for i in s]\n",
    "\n",
    "change_array = np.array(arr)\n",
    "print(np.reshape(arr,(3,3)))"
   ]
  },
  {
   "cell_type": "code",
   "execution_count": null,
   "id": "e42f5fc4",
   "metadata": {},
   "outputs": [],
   "source": []
  }
 ],
 "metadata": {
  "kernelspec": {
   "display_name": "Python 3 (ipykernel)",
   "language": "python",
   "name": "python3"
  },
  "language_info": {
   "codemirror_mode": {
    "name": "ipython",
    "version": 3
   },
   "file_extension": ".py",
   "mimetype": "text/x-python",
   "name": "python",
   "nbconvert_exporter": "python",
   "pygments_lexer": "ipython3",
   "version": "3.8.8"
  }
 },
 "nbformat": 4,
 "nbformat_minor": 5
}
