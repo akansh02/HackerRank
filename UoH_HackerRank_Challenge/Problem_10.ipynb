{
 "cells": [
  {
   "cell_type": "markdown",
   "id": "9bc3bb92",
   "metadata": {},
   "source": [
    "## Eye and Identity"
   ]
  },
  {
   "cell_type": "markdown",
   "id": "73e18e1f",
   "metadata": {},
   "source": [
    "### Task\n",
    "\n",
    "#### identity\n",
    "\n",
    "The identity tool returns an identity array. An identity array is a square matrix with all the main diagonal elements as 1 and the rest as 0 . The default type of elements is float.\n",
    "\n",
    "import numpy\n",
    "print numpy.identity(3) #3 is for  dimension 3 X 3\n",
    "\n",
    "#Output\n",
    "\n",
    "[[ 1.  0.  0.]\n",
    "\n",
    "[ 0.  1.  0.]\n",
    "\n",
    "[ 0.  0.  1.]]\n",
    "\n",
    "#### eye\n",
    "\n",
    "The eye tool returns a 2-D array with 1's as the diagonal and 0's elsewhere. The diagonal can be main, upper or lower depending on the optional parameter k. A positive k is for the upper diagonal, a negative k is for the lower, and a  0k (default) is for the main diagonal.\n",
    "\n",
    "import numpy\n",
    "print numpy.eye(8, 7, k = 1)    # 8 X 7 Dimensional array with first upper diagonal 1.\n",
    "\n",
    "#Output\n",
    "\n",
    "[[ 0.  1.  0.  0.  0.  0.  0.]\n",
    "\n",
    "[ 0.  0.  1.  0.  0.  0.  0.]\n",
    "\n",
    "[ 0.  0.  0.  1.  0.  0.  0.]\n",
    "\n",
    "[ 0.  0.  0.  0.  1.  0.  0.]\n",
    "\n",
    "[ 0.  0.  0.  0.  0.  1.  0.]\n",
    "\n",
    "[ 0.  0.  0.  0.  0.  0.  1.]\n",
    "\n",
    "[ 0.  0.  0.  0.  0.  0.  0.]\n",
    "\n",
    "[ 0.  0.  0.  0.  0.  0.  0.]]\n",
    "\n",
    "print numpy.eye(8, 7, k = -2)   # 8 X 7 Dimensional array with second lower diagonal 1.\n",
    "\n",
    "##### Task\n",
    "\n",
    "Your task is to print an array of size N X M with its main diagonal elements as 1's and 0's everywhere else.\n",
    "\n",
    "Note\n",
    "\n",
    "In order to get alignment correct, please insert the line  numpy.set_printoptions(legacy='1.13') below the numpy import.\n",
    "\n",
    "Input Format\n",
    "\n",
    "A single line containing the space separated values of  N and M.\n",
    "N denotes the rows.\n",
    "M denotes the columns.\n",
    "\n",
    "Output Format\n",
    "\n",
    "Print the desired N X M array.\n",
    "\n",
    "Sample Input\n",
    "\n",
    "3 3\n",
    "\n",
    "Sample Output\n",
    "\n",
    "[[ 1.  0.  0.]\n",
    "\n",
    "[ 0.  1.  0.]\n",
    "\n",
    "[ 0.  0.  1.]]"
   ]
  },
  {
   "cell_type": "code",
   "execution_count": 1,
   "id": "53e32ceb",
   "metadata": {},
   "outputs": [
    {
     "name": "stdout",
     "output_type": "stream",
     "text": [
      "5 3\n",
      "[[ 1.  0.  0.]\n",
      " [ 0.  1.  0.]\n",
      " [ 0.  0.  1.]\n",
      " [ 0.  0.  0.]\n",
      " [ 0.  0.  0.]]\n"
     ]
    }
   ],
   "source": [
    "import numpy as np\n",
    "np.set_printoptions(legacy='1.13')\n",
    "\n",
    "N,M = map(int,input().split())\n",
    "\n",
    "print(np.eye(N,M))\n"
   ]
  },
  {
   "cell_type": "code",
   "execution_count": null,
   "id": "00c42c5c",
   "metadata": {},
   "outputs": [],
   "source": []
  }
 ],
 "metadata": {
  "kernelspec": {
   "display_name": "Python 3 (ipykernel)",
   "language": "python",
   "name": "python3"
  },
  "language_info": {
   "codemirror_mode": {
    "name": "ipython",
    "version": 3
   },
   "file_extension": ".py",
   "mimetype": "text/x-python",
   "name": "python",
   "nbconvert_exporter": "python",
   "pygments_lexer": "ipython3",
   "version": "3.8.8"
  }
 },
 "nbformat": 4,
 "nbformat_minor": 5
}
