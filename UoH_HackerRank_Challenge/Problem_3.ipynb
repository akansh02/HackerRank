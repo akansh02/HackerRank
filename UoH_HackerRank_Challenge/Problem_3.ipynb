{
 "cells": [
  {
   "cell_type": "markdown",
   "id": "f0b39740",
   "metadata": {},
   "source": [
    "## Fizz Buzz-11"
   ]
  },
  {
   "cell_type": "markdown",
   "id": "fab7d907",
   "metadata": {},
   "source": [
    "### Task:\n",
    "\n",
    "Write a program that prints the numbers from 1 to n. For multiples of ‘3’ print “Fizz” instead of the number and for the multiples of ‘5’ print “Buzz” instead of the the number itself. If a number is a multiple of 3 and 5 both, print \"FizzBuzz\".\n",
    "\n",
    "Input Format\n",
    "\n",
    "n is given as an input\n",
    "\n",
    "Constraints\n",
    "\n",
    "n>=1 n<=10,000\n",
    "\n",
    "Output Format\n",
    "\n",
    "Comma seperated numbers with \"Fizz\" and \"Buzz\" inserted in between\n",
    "\n",
    "Sample Input 0\n",
    "\n",
    "10\n",
    "\n",
    "Sample Output 0\n",
    "\n",
    "1,2,Fizz,4,Buzz,Fizz,7,8,Fizz,Buzz"
   ]
  },
  {
   "cell_type": "code",
   "execution_count": 1,
   "id": "545aa2c1",
   "metadata": {},
   "outputs": [
    {
     "name": "stdout",
     "output_type": "stream",
     "text": [
      "10\n",
      "1,2,Fizz,4,Buzz,Fizz,7,8,Fizz,Buzz\n"
     ]
    }
   ],
   "source": [
    "n = int(input())\n",
    "\n",
    "if n ==0:\n",
    "    exit()\n",
    "\n",
    "seperator = \",\"    \n",
    "for num in range(1,n+1):\n",
    "    if num==n:\n",
    "        seperator=\"\\n\"\n",
    "    if num%15==0:\n",
    "        print(\"FizzBuzz\",end=seperator)\n",
    "        continue\n",
    "    elif num%5 ==0:\n",
    "        print(\"Buzz\",end=seperator)\n",
    "        continue\n",
    "    elif num%3 == 0:\n",
    "        print(\"Fizz\",end=seperator)\n",
    "    else:\n",
    "        print(num,end=seperator)\n",
    "    "
   ]
  },
  {
   "cell_type": "code",
   "execution_count": null,
   "id": "a7ae26c6",
   "metadata": {},
   "outputs": [],
   "source": []
  }
 ],
 "metadata": {
  "kernelspec": {
   "display_name": "Python 3 (ipykernel)",
   "language": "python",
   "name": "python3"
  },
  "language_info": {
   "codemirror_mode": {
    "name": "ipython",
    "version": 3
   },
   "file_extension": ".py",
   "mimetype": "text/x-python",
   "name": "python",
   "nbconvert_exporter": "python",
   "pygments_lexer": "ipython3",
   "version": "3.8.8"
  }
 },
 "nbformat": 4,
 "nbformat_minor": 5
}
