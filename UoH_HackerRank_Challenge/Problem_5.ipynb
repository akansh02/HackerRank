{
 "cells": [
  {
   "cell_type": "markdown",
   "id": "9f654bd9",
   "metadata": {},
   "source": [
    "## Find any of the peak elements"
   ]
  },
  {
   "cell_type": "markdown",
   "id": "6c42649c",
   "metadata": {},
   "source": [
    "### Task:\n",
    "\n",
    "A peak element is an element that is strictly greater than its neighbors.\n",
    "\n",
    "Given an integer array \"a\", find a peak element, and return its index.\n",
    "\n",
    "You may imagine that a[-1] = a[n] = -∞.\n",
    "\n",
    "Design a O(lg(n)) time & O(1) space algorithm.\n",
    "\n",
    "Input Format\n",
    "\n",
    "Comma sepearted values of the array \"a\"\n",
    "\n",
    "Constraints\n",
    "\n",
    "1 <= a.length <= 10000\n",
    "\n",
    "a[i] != a[i + 1] for all valid i.\n",
    "\n",
    "Output Format\n",
    "\n",
    "index of any of the peaks\n",
    "\n",
    "Sample Input 0\n",
    "\n",
    "2,0,1,4,5,8,4\n",
    "\n",
    "Sample Output 0\n",
    "\n",
    "5\n",
    "\n",
    "Explanation 0\n",
    "\n",
    "At index=5, we have a peak element which is 8\n",
    "\n",
    "Sample Input 1\n",
    "\n",
    "1,2,3,2,1\n",
    "\n",
    "Sample Output 1\n",
    "\n",
    "2\n",
    "\n",
    "Explanation 1\n",
    "\n",
    "At index 2, we have 3 which is the only peak element"
   ]
  },
  {
   "cell_type": "code",
   "execution_count": 1,
   "id": "5ab22196",
   "metadata": {},
   "outputs": [
    {
     "name": "stdout",
     "output_type": "stream",
     "text": [
      "1,2,3,2,1\n",
      "2\n"
     ]
    }
   ],
   "source": [
    "# for O(lg(n) Time and O(1) space we will use Binary search\n",
    "\n",
    "s = input().split(\",\")\n",
    "array = [int(i) for i in s]\n",
    "\n",
    "left_index = 0\n",
    "right_index = len(array) - 1\n",
    "\n",
    "while left_index < right_index:\n",
    "    middle = (left_index+right_index)//2\n",
    "    if array[middle]>array[middle+1]:\n",
    "        right_index = middle \n",
    "    else:\n",
    "        left_index = middle+1\n",
    "print(left_index)"
   ]
  },
  {
   "cell_type": "code",
   "execution_count": null,
   "id": "0a220d5b",
   "metadata": {},
   "outputs": [],
   "source": []
  }
 ],
 "metadata": {
  "kernelspec": {
   "display_name": "Python 3 (ipykernel)",
   "language": "python",
   "name": "python3"
  },
  "language_info": {
   "codemirror_mode": {
    "name": "ipython",
    "version": 3
   },
   "file_extension": ".py",
   "mimetype": "text/x-python",
   "name": "python",
   "nbconvert_exporter": "python",
   "pygments_lexer": "ipython3",
   "version": "3.8.8"
  }
 },
 "nbformat": 4,
 "nbformat_minor": 5
}
