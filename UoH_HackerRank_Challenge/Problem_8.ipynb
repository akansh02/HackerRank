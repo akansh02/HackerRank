{
 "cells": [
  {
   "cell_type": "markdown",
   "id": "d3dc88ec",
   "metadata": {},
   "source": [
    "## Min and Max"
   ]
  },
  {
   "cell_type": "markdown",
   "id": "00416b7a",
   "metadata": {},
   "source": [
    "### Task:\n",
    "#### min\n",
    "\n",
    "The tool min returns the minimum value along a given axis.\n",
    "\n",
    "import numpy\n",
    "\n",
    "my_array = numpy.array\n",
    "                       ([[2, 5], \n",
    "                        \n",
    "                        [3, 7],\n",
    "                       \n",
    "                       [1, 3],\n",
    "                       \n",
    "                       [4, 0]])\n",
    "\n",
    "print numpy.min(my_array, axis = 0)         #Output : [1 0]\n",
    "print numpy.min(my_array, axis = 1)         #Output : [2 3 1 0]\n",
    "print numpy.min(my_array, axis = None)      #Output : 0\n",
    "print numpy.min(my_array)                   #Output : 0\n",
    "By default, the axis value is None. Therefore, it finds the minimum over all the dimensions of the input array.\n",
    "\n",
    "#### max\n",
    "\n",
    "The tool max returns the maximum value along a given axis.\n",
    "\n",
    "import numpy\n",
    "\n",
    "my_array = numpy.array\n",
    "                        ([[2, 5], \n",
    "                        \n",
    "                        [3, 7],\n",
    "                        \n",
    "                        [1, 3],\n",
    "                        \n",
    "                        [4, 0]])\n",
    "\n",
    "print numpy.max(my_array, axis = 0)         #Output : [4 7]\n",
    "print numpy.max(my_array, axis = 1)         #Output : [5 7 3 4]\n",
    "print numpy.max(my_array, axis = None)      #Output : 7\n",
    "print numpy.max(my_array)                   #Output : 7\n",
    "By default, the axis value is None. Therefore, it finds the maximum over all the dimensions of the input array.\n",
    "\n",
    "### Task\n",
    "\n",
    "You are given a 2-D array with dimensions X.\n",
    "Your task is to perform the min function over axis  and then find the max of that.\n",
    "\n",
    "Input Format\n",
    "\n",
    "The first line of input contains the space separated values of  and .\n",
    "The next  lines contains  space separated integers.\n",
    "\n",
    "Output Format\n",
    "\n",
    "Compute the min along axis  and then print the max of that result.\n",
    "\n",
    "Sample Input\n",
    "\n",
    "4 2\n",
    "2 5\n",
    "3 7\n",
    "1 3\n",
    "4 0\n",
    "\n",
    "Sample Output\n",
    "\n",
    "3\n",
    "\n",
    "Explanation\n",
    "\n",
    "The min along axis 1 = [2,3,1,0] \n",
    "The max of [2,3,1,0] = 3"
   ]
  },
  {
   "cell_type": "code",
   "execution_count": 2,
   "id": "93f61bec",
   "metadata": {},
   "outputs": [
    {
     "name": "stdout",
     "output_type": "stream",
     "text": [
      "4 2 \n",
      "2 5\n",
      "8 7 \n",
      "1 4\n",
      "4 0\n",
      "7\n"
     ]
    }
   ],
   "source": [
    "import numpy as np\n",
    "\n",
    "n, m = map(int, input().split())\n",
    "\n",
    "arr = [list(map(int, input().split())) for i in range(n)]\n",
    "\n",
    "my_array = np.array(arr)\n",
    "print(max(np.min(my_array,axis = 1)))"
   ]
  },
  {
   "cell_type": "code",
   "execution_count": null,
   "id": "542875af",
   "metadata": {},
   "outputs": [],
   "source": []
  }
 ],
 "metadata": {
  "kernelspec": {
   "display_name": "Python 3 (ipykernel)",
   "language": "python",
   "name": "python3"
  },
  "language_info": {
   "codemirror_mode": {
    "name": "ipython",
    "version": 3
   },
   "file_extension": ".py",
   "mimetype": "text/x-python",
   "name": "python",
   "nbconvert_exporter": "python",
   "pygments_lexer": "ipython3",
   "version": "3.8.8"
  }
 },
 "nbformat": 4,
 "nbformat_minor": 5
}
