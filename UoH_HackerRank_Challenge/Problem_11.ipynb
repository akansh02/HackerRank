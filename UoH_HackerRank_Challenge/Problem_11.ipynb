{
 "cells": [
  {
   "cell_type": "markdown",
   "id": "2b3a3120",
   "metadata": {},
   "source": [
    "## Dot and Cross"
   ]
  },
  {
   "cell_type": "markdown",
   "id": "b446a327",
   "metadata": {},
   "source": [
    "\n",
    "##### dot\n",
    "\n",
    "The dot tool returns the dot product of two arrays.\n",
    "\n",
    "import numpy\n",
    "\n",
    "A = numpy.array([ 1, 2 ])\n",
    "B = numpy.array([ 3, 4 ])\n",
    "\n",
    "print numpy.dot(A, B)       #Output : 11\n",
    "\n",
    "##### cross\n",
    "\n",
    "The cross tool returns the cross product of two arrays.\n",
    "\n",
    "import numpy\n",
    "\n",
    "A = numpy.array([ 1, 2 ])\n",
    "B = numpy.array([ 3, 4 ])\n",
    "\n",
    "print numpy.cross(A, B)     #Output : -2\n",
    "\n",
    "### Task\n",
    "\n",
    "You are given two arrays  and . Both have dimensions of X.\n",
    "Your task is to compute their matrix product.\n",
    "\n",
    "Input Format\n",
    "\n",
    "The first line contains the integer .\n",
    "The next  lines contains  space separated integers of array .\n",
    "The following  lines contains  space separated integers of array .\n",
    "\n",
    "Output Format\n",
    "\n",
    "Print the matrix multiplication of  and .\n",
    "\n",
    "Sample Input\n",
    "\n",
    "2\n",
    "\n",
    "1 2\n",
    "\n",
    "3 4\n",
    "\n",
    "1 2\n",
    "\n",
    "3 4\n",
    "\n",
    "Sample Output\n",
    "\n",
    "[[ 7 10]\n",
    "\n",
    "[15 22]]\n"
   ]
  },
  {
   "cell_type": "code",
   "execution_count": 1,
   "id": "99c599fc",
   "metadata": {},
   "outputs": [
    {
     "name": "stdout",
     "output_type": "stream",
     "text": [
      "2\n",
      "1 2\n",
      "3 4\n",
      "1 2\n",
      "3 3\n",
      "[[ 7  8]\n",
      " [15 18]]\n"
     ]
    }
   ],
   "source": [
    "import numpy as np\n",
    "\n",
    "N = int(input())\n",
    "\n",
    "A = np.array([ list( map(int,input().split())) for i in range(N)])\n",
    "B = np.array([ list( map(int,input().split())) for i in range(N)])\n",
    "\n",
    "\n",
    "result = np.dot(A,B)\n",
    "\n",
    "print(result)"
   ]
  },
  {
   "cell_type": "code",
   "execution_count": null,
   "id": "8c24883e",
   "metadata": {},
   "outputs": [],
   "source": []
  }
 ],
 "metadata": {
  "kernelspec": {
   "display_name": "Python 3 (ipykernel)",
   "language": "python",
   "name": "python3"
  },
  "language_info": {
   "codemirror_mode": {
    "name": "ipython",
    "version": 3
   },
   "file_extension": ".py",
   "mimetype": "text/x-python",
   "name": "python",
   "nbconvert_exporter": "python",
   "pygments_lexer": "ipython3",
   "version": "3.8.8"
  }
 },
 "nbformat": 4,
 "nbformat_minor": 5
}
