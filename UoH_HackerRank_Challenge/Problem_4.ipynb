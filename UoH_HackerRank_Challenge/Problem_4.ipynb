{
 "cells": [
  {
   "cell_type": "markdown",
   "id": "b44c7de6",
   "metadata": {},
   "source": [
    "## Climbing Stairs 4"
   ]
  },
  {
   "cell_type": "markdown",
   "id": "a70bd924",
   "metadata": {},
   "source": [
    "### Task:\n",
    "\n",
    "You are climbing a staircase. It takes \"n\" steps to reach the top.\n",
    "\n",
    "Each time you can either climb 1 or 2 steps. In how many distinct ways can you climb to the top?\n",
    "\n",
    "Input Format\n",
    "\n",
    "n is given as an input as a positive integer\n",
    "\n",
    "Constraints\n",
    "\n",
    "1<=n<=30\n",
    "\n",
    "Output Format\n",
    "\n",
    "Print the number of distinct ways can you climb as an integer\n",
    "\n",
    "Sample Input 0\n",
    "\n",
    "2\n",
    "\n",
    "Sample Output 0\n",
    "\n",
    "2\n",
    "\n",
    "Explanation 0\n",
    "\n",
    "There are two ways to climb to the top: 1 step + 1 step & 2 steps\n",
    "\n",
    "Sample Input 1\n",
    "\n",
    "3\n",
    "\n",
    "Sample Output 1\n",
    "\n",
    "3\n",
    "\n",
    "Explanation 1\n",
    "\n",
    "There are three ways to climb to the top: 1 step + 1 step + 1 step & 1 step + 2 steps & 2 steps + 1 step\n",
    "\n"
   ]
  },
  {
   "cell_type": "code",
   "execution_count": 1,
   "id": "10728517",
   "metadata": {},
   "outputs": [
    {
     "name": "stdout",
     "output_type": "stream",
     "text": [
      "3\n",
      "3\n"
     ]
    }
   ],
   "source": [
    "def CountSteps(n):\n",
    "    if n==0:\n",
    "        return None\n",
    "    if n==1:\n",
    "        return 1 \n",
    "    if n==2:\n",
    "        return 2\n",
    "    if n>=1 and n<=30:\n",
    "        return CountSteps(n-1)+ CountSteps(n-2)\n",
    "    else:\n",
    "        return None\n",
    "\n",
    "n = int(input())\n",
    "print(CountSteps(n))"
   ]
  },
  {
   "cell_type": "code",
   "execution_count": null,
   "id": "ff10bd9f",
   "metadata": {},
   "outputs": [],
   "source": []
  }
 ],
 "metadata": {
  "kernelspec": {
   "display_name": "Python 3 (ipykernel)",
   "language": "python",
   "name": "python3"
  },
  "language_info": {
   "codemirror_mode": {
    "name": "ipython",
    "version": 3
   },
   "file_extension": ".py",
   "mimetype": "text/x-python",
   "name": "python",
   "nbconvert_exporter": "python",
   "pygments_lexer": "ipython3",
   "version": "3.8.8"
  }
 },
 "nbformat": 4,
 "nbformat_minor": 5
}
