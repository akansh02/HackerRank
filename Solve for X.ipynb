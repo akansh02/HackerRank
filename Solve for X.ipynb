{
 "cells": [
  {
   "cell_type": "markdown",
   "id": "2ed3e486",
   "metadata": {},
   "source": [
    "### Problem at Hand"
   ]
  },
  {
   "cell_type": "markdown",
   "id": "9e2d394d",
   "metadata": {},
   "source": [
    "- Find a real valued \"x\" such that x^5 - x^4 + 2*x^3 - x^2 + x = 3. Print the result to 5 decimal places of accuracy."
   ]
  },
  {
   "cell_type": "code",
   "execution_count": 3,
   "id": "7ff874b0",
   "metadata": {},
   "outputs": [
    {
     "name": "stdout",
     "output_type": "stream",
     "text": [
      "The value of the X in the given function is:  1.13555\n"
     ]
    }
   ],
   "source": [
    "import math\n",
    "\n",
    "def f(x):\n",
    "    return x**5 - x**4 + 2*x**3 - x**2 + x - 3\n",
    "\n",
    "x_lower = -1\n",
    "x_upper = 2\n",
    "x = (x_lower+x_upper)/2\n",
    "while(abs(f(x)) > 0.00001):\n",
    "    x = (x_lower + x_upper)/2\n",
    "    if f(x)>0:\n",
    "        x_upper = x\n",
    "    else:\n",
    "        x_lower = x\n",
    "        \n",
    "print(\"The value of the X in the given function is: \",round(x,5))"
   ]
  },
  {
   "cell_type": "code",
   "execution_count": null,
   "id": "b6034927",
   "metadata": {},
   "outputs": [],
   "source": []
  }
 ],
 "metadata": {
  "kernelspec": {
   "display_name": "Python 3",
   "language": "python",
   "name": "python3"
  },
  "language_info": {
   "codemirror_mode": {
    "name": "ipython",
    "version": 3
   },
   "file_extension": ".py",
   "mimetype": "text/x-python",
   "name": "python",
   "nbconvert_exporter": "python",
   "pygments_lexer": "ipython3",
   "version": "3.8.8"
  }
 },
 "nbformat": 4,
 "nbformat_minor": 5
}
