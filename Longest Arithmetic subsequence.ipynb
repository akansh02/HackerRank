{
 "cells": [
  {
   "cell_type": "markdown",
   "id": "97b8673d",
   "metadata": {},
   "source": [
    "### Problem at Hand"
   ]
  },
  {
   "cell_type": "markdown",
   "id": "53791704",
   "metadata": {},
   "source": [
    "- Given an array A of integers, return the length of the longest arithmetic subsequence in A.\n",
    "\n",
    "- Recall that a subsequence of A is a list A[i_1], A[i_2], ..., A[i_k] with 0 <= i_1 < i_2 < ... < i_k <= A.length - 1, \n",
    "  and that a sequence B is arithmetic if B[i+1] - B[i] are all the same value (for 0 <= i < B.length - 1)."
   ]
  },
  {
   "cell_type": "code",
   "execution_count": 3,
   "id": "230c8006",
   "metadata": {},
   "outputs": [
    {
     "name": "stdout",
     "output_type": "stream",
     "text": [
      "Enter your Numbers: 20,1,15,3,10,5,8\n",
      "The longest arithmetic subsequence is:  4\n"
     ]
    }
   ],
   "source": [
    "def LongestArithSub(arr):\n",
    "    dict = {}\n",
    "    for i in range(len(arr)):\n",
    "        for j in range(i + 1, len(arr)):\n",
    "            dict[j, arr[j] - arr[i]] = dict.get((i, arr[j] - arr[i]), 1) + 1\n",
    "    return max(dict.values())\n",
    "\n",
    "\n",
    "str = input(\"Enter your Numbers: \").split(\",\")\n",
    "arr = [int(i) for i in str]\n",
    "\n",
    "print(\"The longest arithmetic subsequence is: \",LongestArithSub(arr))"
   ]
  },
  {
   "cell_type": "code",
   "execution_count": null,
   "id": "60c86b28",
   "metadata": {},
   "outputs": [],
   "source": []
  }
 ],
 "metadata": {
  "kernelspec": {
   "display_name": "Python 3",
   "language": "python",
   "name": "python3"
  },
  "language_info": {
   "codemirror_mode": {
    "name": "ipython",
    "version": 3
   },
   "file_extension": ".py",
   "mimetype": "text/x-python",
   "name": "python",
   "nbconvert_exporter": "python",
   "pygments_lexer": "ipython3",
   "version": "3.8.8"
  }
 },
 "nbformat": 4,
 "nbformat_minor": 5
}
