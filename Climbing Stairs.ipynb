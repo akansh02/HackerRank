{
 "cells": [
  {
   "cell_type": "markdown",
   "id": "38402e3c",
   "metadata": {},
   "source": [
    "### Problem at Hand:"
   ]
  },
  {
   "cell_type": "markdown",
   "id": "a4b8c875",
   "metadata": {},
   "source": [
    "- You are climbing a staircase. It takes \"n\" steps to reach the top.\n",
    "- Each time you can either climb 1 or 2 steps. In how many distinct ways can you climb to the top?"
   ]
  },
  {
   "cell_type": "code",
   "execution_count": 4,
   "id": "ff383a7f",
   "metadata": {},
   "outputs": [
    {
     "name": "stdout",
     "output_type": "stream",
     "text": [
      "Enter the number of Staircase: 6\n",
      "You can climb in 13 Distinct ways!\n"
     ]
    }
   ],
   "source": [
    "def CountSteps(n):\n",
    "    if n==0:\n",
    "        return None\n",
    "    if n==1:\n",
    "        return 1 \n",
    "    if n==2:\n",
    "        return 2\n",
    "    if n>=1 and n<=30:\n",
    "        return CountSteps(n-1)+ CountSteps(n-2)\n",
    "    else:\n",
    "        return None\n",
    "\n",
    "n = int(input(\"Enter the number of Staircase: \"))\n",
    "print(f\"You can climb in {CountSteps(n)} Distinct ways!\")"
   ]
  },
  {
   "cell_type": "markdown",
   "id": "d58a980a",
   "metadata": {},
   "source": []
  }
 ],
 "metadata": {
  "kernelspec": {
   "display_name": "Python 3",
   "language": "python",
   "name": "python3"
  },
  "language_info": {
   "codemirror_mode": {
    "name": "ipython",
    "version": 3
   },
   "file_extension": ".py",
   "mimetype": "text/x-python",
   "name": "python",
   "nbconvert_exporter": "python",
   "pygments_lexer": "ipython3",
   "version": "3.8.8"
  }
 },
 "nbformat": 4,
 "nbformat_minor": 5
}
