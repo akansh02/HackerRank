{
 "cells": [
  {
   "cell_type": "code",
   "execution_count": 1,
   "id": "ff383a7f",
   "metadata": {},
   "outputs": [
    {
     "name": "stdout",
     "output_type": "stream",
     "text": [
      "3\n",
      "3\n"
     ]
    }
   ],
   "source": [
    "# You are climbing a staircase. It takes \"n\" steps to reach the top.\n",
    "# Each time you can either climb 1 or 2 steps. In how many distinct ways can you climb to the top?\n",
    "\n",
    "\n",
    "def CountSteps(n):\n",
    "    if n==0:\n",
    "        return None\n",
    "    if n==1:\n",
    "        return 1 \n",
    "    if n==2:\n",
    "        return 2\n",
    "    if n>=1 and n<=30:\n",
    "        return CountSteps(n-1)+ CountSteps(n-2)\n",
    "    else:\n",
    "        return None\n",
    "\n",
    "n = int(input())\n",
    "print(CountSteps(n))"
   ]
  },
  {
   "cell_type": "markdown",
   "id": "d58a980a",
   "metadata": {},
   "source": []
  }
 ],
 "metadata": {
  "kernelspec": {
   "display_name": "Python 3",
   "language": "python",
   "name": "python3"
  },
  "language_info": {
   "codemirror_mode": {
    "name": "ipython",
    "version": 3
   },
   "file_extension": ".py",
   "mimetype": "text/x-python",
   "name": "python",
   "nbconvert_exporter": "python",
   "pygments_lexer": "ipython3",
   "version": "3.8.8"
  }
 },
 "nbformat": 4,
 "nbformat_minor": 5
}
