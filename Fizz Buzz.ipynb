{
 "cells": [
  {
   "cell_type": "markdown",
   "id": "446244f9",
   "metadata": {},
   "source": [
    "#### - Write a program that prints the numbers from 1 to n. For multiples of ‘3’ print “Fizz” instead of the number and for the multiples of ‘5’ print “Buzz” instead of the the number itself. If a number is a multiple of 3 and 5 both, print \"FizzBuzz\"."
   ]
  },
  {
   "cell_type": "code",
   "execution_count": 4,
   "id": "1a92c521",
   "metadata": {},
   "outputs": [
    {
     "name": "stdout",
     "output_type": "stream",
     "text": [
      "Enter a number: 10\n",
      "1,2,Fizz,4,Buzz,Fizz,7,8,Fizz,Buzz\n"
     ]
    }
   ],
   "source": [
    "n = int(input(\"Enter a number: \"))\n",
    "\n",
    "if n ==0: \n",
    "    exit()\n",
    "\n",
    "seperator = \",\"    # Expected Output format: Comma seperated numbers with \"Fizz\" and \"Buzz\" inserted in between\n",
    "for num in range(1,n+1):\n",
    "    if num==n:\n",
    "        seperator=\"\\n\"\n",
    "    if num%15==0:\n",
    "        print(\"FizzBuzz\",end=seperator)\n",
    "        continue\n",
    "    elif num%5 ==0:\n",
    "        print(\"Buzz\",end=seperator)\n",
    "        continue\n",
    "    elif num%3 == 0:\n",
    "        print(\"Fizz\",end=seperator)\n",
    "    else:\n",
    "        print(num,end=seperator)\n",
    "    "
   ]
  },
  {
   "cell_type": "code",
   "execution_count": null,
   "id": "04d561e4",
   "metadata": {},
   "outputs": [],
   "source": []
  }
 ],
 "metadata": {
  "kernelspec": {
   "display_name": "Python 3",
   "language": "python",
   "name": "python3"
  },
  "language_info": {
   "codemirror_mode": {
    "name": "ipython",
    "version": 3
   },
   "file_extension": ".py",
   "mimetype": "text/x-python",
   "name": "python",
   "nbconvert_exporter": "python",
   "pygments_lexer": "ipython3",
   "version": "3.8.8"
  }
 },
 "nbformat": 4,
 "nbformat_minor": 5
}
